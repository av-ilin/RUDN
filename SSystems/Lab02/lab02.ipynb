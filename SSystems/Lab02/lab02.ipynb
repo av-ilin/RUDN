{
  "cells": [
    {
      "cell_type": "code",
      "execution_count": null,
      "id": "b0344370",
      "metadata": {
        "id": "b0344370"
      },
      "outputs": [],
      "source": [
        "import numpy as np\n",
        "import random\n",
        "\n",
        "\n",
        "SEED = 42\n",
        "random.seed(SEED)\n",
        "np.random.seed(SEED)"
      ]
    },
    {
      "cell_type": "markdown",
      "id": "1fbeb2d0",
      "metadata": {
        "id": "1fbeb2d0"
      },
      "source": [
        "# Data"
      ]
    },
    {
      "cell_type": "markdown",
      "id": "f5943e8d",
      "metadata": {
        "id": "f5943e8d"
      },
      "source": [
        "## Data Info"
      ]
    },
    {
      "cell_type": "code",
      "execution_count": null,
      "id": "cffa7609",
      "metadata": {
        "id": "cffa7609"
      },
      "outputs": [],
      "source": [
        "import pandas as pd\n",
        "\n",
        "\n",
        "anime = pd.read_csv('data/anime.csv')\n",
        "rating = pd.read_csv('data/rating.csv')"
      ]
    },
    {
      "cell_type": "code",
      "execution_count": null,
      "id": "339f3820",
      "metadata": {
        "scrolled": true,
        "id": "339f3820",
        "outputId": "1f9eeb49-6d6b-4d6f-e4df-7a6e0f726d1a"
      },
      "outputs": [
        {
          "data": {
            "text/html": [
              "<div>\n",
              "<style scoped>\n",
              "    .dataframe tbody tr th:only-of-type {\n",
              "        vertical-align: middle;\n",
              "    }\n",
              "\n",
              "    .dataframe tbody tr th {\n",
              "        vertical-align: top;\n",
              "    }\n",
              "\n",
              "    .dataframe thead th {\n",
              "        text-align: right;\n",
              "    }\n",
              "</style>\n",
              "<table border=\"1\" class=\"dataframe\">\n",
              "  <thead>\n",
              "    <tr style=\"text-align: right;\">\n",
              "      <th></th>\n",
              "      <th>anime_id</th>\n",
              "      <th>name</th>\n",
              "      <th>genre</th>\n",
              "      <th>type</th>\n",
              "      <th>episodes</th>\n",
              "      <th>rating</th>\n",
              "      <th>members</th>\n",
              "    </tr>\n",
              "  </thead>\n",
              "  <tbody>\n",
              "    <tr>\n",
              "      <th>0</th>\n",
              "      <td>32281</td>\n",
              "      <td>Kimi no Na wa.</td>\n",
              "      <td>Drama, Romance, School, Supernatural</td>\n",
              "      <td>Movie</td>\n",
              "      <td>1</td>\n",
              "      <td>9.37</td>\n",
              "      <td>200630</td>\n",
              "    </tr>\n",
              "    <tr>\n",
              "      <th>1</th>\n",
              "      <td>5114</td>\n",
              "      <td>Fullmetal Alchemist: Brotherhood</td>\n",
              "      <td>Action, Adventure, Drama, Fantasy, Magic, Mili...</td>\n",
              "      <td>TV</td>\n",
              "      <td>64</td>\n",
              "      <td>9.26</td>\n",
              "      <td>793665</td>\n",
              "    </tr>\n",
              "    <tr>\n",
              "      <th>2</th>\n",
              "      <td>28977</td>\n",
              "      <td>Gintama°</td>\n",
              "      <td>Action, Comedy, Historical, Parody, Samurai, S...</td>\n",
              "      <td>TV</td>\n",
              "      <td>51</td>\n",
              "      <td>9.25</td>\n",
              "      <td>114262</td>\n",
              "    </tr>\n",
              "    <tr>\n",
              "      <th>3</th>\n",
              "      <td>9253</td>\n",
              "      <td>Steins;Gate</td>\n",
              "      <td>Sci-Fi, Thriller</td>\n",
              "      <td>TV</td>\n",
              "      <td>24</td>\n",
              "      <td>9.17</td>\n",
              "      <td>673572</td>\n",
              "    </tr>\n",
              "    <tr>\n",
              "      <th>4</th>\n",
              "      <td>9969</td>\n",
              "      <td>Gintama&amp;#039;</td>\n",
              "      <td>Action, Comedy, Historical, Parody, Samurai, S...</td>\n",
              "      <td>TV</td>\n",
              "      <td>51</td>\n",
              "      <td>9.16</td>\n",
              "      <td>151266</td>\n",
              "    </tr>\n",
              "    <tr>\n",
              "      <th>...</th>\n",
              "      <td>...</td>\n",
              "      <td>...</td>\n",
              "      <td>...</td>\n",
              "      <td>...</td>\n",
              "      <td>...</td>\n",
              "      <td>...</td>\n",
              "      <td>...</td>\n",
              "    </tr>\n",
              "    <tr>\n",
              "      <th>12289</th>\n",
              "      <td>9316</td>\n",
              "      <td>Toushindai My Lover: Minami tai Mecha-Minami</td>\n",
              "      <td>Hentai</td>\n",
              "      <td>OVA</td>\n",
              "      <td>1</td>\n",
              "      <td>4.15</td>\n",
              "      <td>211</td>\n",
              "    </tr>\n",
              "    <tr>\n",
              "      <th>12290</th>\n",
              "      <td>5543</td>\n",
              "      <td>Under World</td>\n",
              "      <td>Hentai</td>\n",
              "      <td>OVA</td>\n",
              "      <td>1</td>\n",
              "      <td>4.28</td>\n",
              "      <td>183</td>\n",
              "    </tr>\n",
              "    <tr>\n",
              "      <th>12291</th>\n",
              "      <td>5621</td>\n",
              "      <td>Violence Gekiga David no Hoshi</td>\n",
              "      <td>Hentai</td>\n",
              "      <td>OVA</td>\n",
              "      <td>4</td>\n",
              "      <td>4.88</td>\n",
              "      <td>219</td>\n",
              "    </tr>\n",
              "    <tr>\n",
              "      <th>12292</th>\n",
              "      <td>6133</td>\n",
              "      <td>Violence Gekiga Shin David no Hoshi: Inma Dens...</td>\n",
              "      <td>Hentai</td>\n",
              "      <td>OVA</td>\n",
              "      <td>1</td>\n",
              "      <td>4.98</td>\n",
              "      <td>175</td>\n",
              "    </tr>\n",
              "    <tr>\n",
              "      <th>12293</th>\n",
              "      <td>26081</td>\n",
              "      <td>Yasuji no Pornorama: Yacchimae!!</td>\n",
              "      <td>Hentai</td>\n",
              "      <td>Movie</td>\n",
              "      <td>1</td>\n",
              "      <td>5.46</td>\n",
              "      <td>142</td>\n",
              "    </tr>\n",
              "  </tbody>\n",
              "</table>\n",
              "<p>12294 rows × 7 columns</p>\n",
              "</div>"
            ],
            "text/plain": [
              "       anime_id                                               name  \\\n",
              "0         32281                                     Kimi no Na wa.   \n",
              "1          5114                   Fullmetal Alchemist: Brotherhood   \n",
              "2         28977                                           Gintama°   \n",
              "3          9253                                        Steins;Gate   \n",
              "4          9969                                      Gintama&#039;   \n",
              "...         ...                                                ...   \n",
              "12289      9316       Toushindai My Lover: Minami tai Mecha-Minami   \n",
              "12290      5543                                        Under World   \n",
              "12291      5621                     Violence Gekiga David no Hoshi   \n",
              "12292      6133  Violence Gekiga Shin David no Hoshi: Inma Dens...   \n",
              "12293     26081                   Yasuji no Pornorama: Yacchimae!!   \n",
              "\n",
              "                                                   genre   type episodes  \\\n",
              "0                   Drama, Romance, School, Supernatural  Movie        1   \n",
              "1      Action, Adventure, Drama, Fantasy, Magic, Mili...     TV       64   \n",
              "2      Action, Comedy, Historical, Parody, Samurai, S...     TV       51   \n",
              "3                                       Sci-Fi, Thriller     TV       24   \n",
              "4      Action, Comedy, Historical, Parody, Samurai, S...     TV       51   \n",
              "...                                                  ...    ...      ...   \n",
              "12289                                             Hentai    OVA        1   \n",
              "12290                                             Hentai    OVA        1   \n",
              "12291                                             Hentai    OVA        4   \n",
              "12292                                             Hentai    OVA        1   \n",
              "12293                                             Hentai  Movie        1   \n",
              "\n",
              "       rating  members  \n",
              "0        9.37   200630  \n",
              "1        9.26   793665  \n",
              "2        9.25   114262  \n",
              "3        9.17   673572  \n",
              "4        9.16   151266  \n",
              "...       ...      ...  \n",
              "12289    4.15      211  \n",
              "12290    4.28      183  \n",
              "12291    4.88      219  \n",
              "12292    4.98      175  \n",
              "12293    5.46      142  \n",
              "\n",
              "[12294 rows x 7 columns]"
            ]
          },
          "execution_count": 3,
          "metadata": {},
          "output_type": "execute_result"
        }
      ],
      "source": [
        "anime"
      ]
    },
    {
      "cell_type": "code",
      "execution_count": null,
      "id": "bb759296",
      "metadata": {
        "scrolled": false,
        "id": "bb759296",
        "outputId": "6157d867-11ad-4ce0-b7e7-831da055dc52"
      },
      "outputs": [
        {
          "data": {
            "text/html": [
              "<div>\n",
              "<style scoped>\n",
              "    .dataframe tbody tr th:only-of-type {\n",
              "        vertical-align: middle;\n",
              "    }\n",
              "\n",
              "    .dataframe tbody tr th {\n",
              "        vertical-align: top;\n",
              "    }\n",
              "\n",
              "    .dataframe thead th {\n",
              "        text-align: right;\n",
              "    }\n",
              "</style>\n",
              "<table border=\"1\" class=\"dataframe\">\n",
              "  <thead>\n",
              "    <tr style=\"text-align: right;\">\n",
              "      <th></th>\n",
              "      <th>user_id</th>\n",
              "      <th>anime_id</th>\n",
              "      <th>rating</th>\n",
              "    </tr>\n",
              "  </thead>\n",
              "  <tbody>\n",
              "    <tr>\n",
              "      <th>0</th>\n",
              "      <td>1</td>\n",
              "      <td>20</td>\n",
              "      <td>-1</td>\n",
              "    </tr>\n",
              "    <tr>\n",
              "      <th>1</th>\n",
              "      <td>1</td>\n",
              "      <td>24</td>\n",
              "      <td>-1</td>\n",
              "    </tr>\n",
              "    <tr>\n",
              "      <th>2</th>\n",
              "      <td>1</td>\n",
              "      <td>79</td>\n",
              "      <td>-1</td>\n",
              "    </tr>\n",
              "    <tr>\n",
              "      <th>3</th>\n",
              "      <td>1</td>\n",
              "      <td>226</td>\n",
              "      <td>-1</td>\n",
              "    </tr>\n",
              "    <tr>\n",
              "      <th>4</th>\n",
              "      <td>1</td>\n",
              "      <td>241</td>\n",
              "      <td>-1</td>\n",
              "    </tr>\n",
              "    <tr>\n",
              "      <th>...</th>\n",
              "      <td>...</td>\n",
              "      <td>...</td>\n",
              "      <td>...</td>\n",
              "    </tr>\n",
              "    <tr>\n",
              "      <th>7813732</th>\n",
              "      <td>73515</td>\n",
              "      <td>16512</td>\n",
              "      <td>7</td>\n",
              "    </tr>\n",
              "    <tr>\n",
              "      <th>7813733</th>\n",
              "      <td>73515</td>\n",
              "      <td>17187</td>\n",
              "      <td>9</td>\n",
              "    </tr>\n",
              "    <tr>\n",
              "      <th>7813734</th>\n",
              "      <td>73515</td>\n",
              "      <td>22145</td>\n",
              "      <td>10</td>\n",
              "    </tr>\n",
              "    <tr>\n",
              "      <th>7813735</th>\n",
              "      <td>73516</td>\n",
              "      <td>790</td>\n",
              "      <td>9</td>\n",
              "    </tr>\n",
              "    <tr>\n",
              "      <th>7813736</th>\n",
              "      <td>73516</td>\n",
              "      <td>8074</td>\n",
              "      <td>9</td>\n",
              "    </tr>\n",
              "  </tbody>\n",
              "</table>\n",
              "<p>7813737 rows × 3 columns</p>\n",
              "</div>"
            ],
            "text/plain": [
              "         user_id  anime_id  rating\n",
              "0              1        20      -1\n",
              "1              1        24      -1\n",
              "2              1        79      -1\n",
              "3              1       226      -1\n",
              "4              1       241      -1\n",
              "...          ...       ...     ...\n",
              "7813732    73515     16512       7\n",
              "7813733    73515     17187       9\n",
              "7813734    73515     22145      10\n",
              "7813735    73516       790       9\n",
              "7813736    73516      8074       9\n",
              "\n",
              "[7813737 rows x 3 columns]"
            ]
          },
          "execution_count": 4,
          "metadata": {},
          "output_type": "execute_result"
        }
      ],
      "source": [
        "rating"
      ]
    },
    {
      "cell_type": "code",
      "execution_count": null,
      "id": "e4a3d268",
      "metadata": {
        "id": "e4a3d268",
        "outputId": "ddf170e6-86ff-4585-eabf-9ca2e901d7f1"
      },
      "outputs": [
        {
          "data": {
            "text/html": [
              "<div>\n",
              "<style scoped>\n",
              "    .dataframe tbody tr th:only-of-type {\n",
              "        vertical-align: middle;\n",
              "    }\n",
              "\n",
              "    .dataframe tbody tr th {\n",
              "        vertical-align: top;\n",
              "    }\n",
              "\n",
              "    .dataframe thead th {\n",
              "        text-align: right;\n",
              "    }\n",
              "</style>\n",
              "<table border=\"1\" class=\"dataframe\">\n",
              "  <thead>\n",
              "    <tr style=\"text-align: right;\">\n",
              "      <th></th>\n",
              "      <th>Miss count</th>\n",
              "      <th>Miss percent</th>\n",
              "    </tr>\n",
              "  </thead>\n",
              "  <tbody>\n",
              "    <tr>\n",
              "      <th>rating</th>\n",
              "      <td>230</td>\n",
              "      <td>0.002944</td>\n",
              "    </tr>\n",
              "    <tr>\n",
              "      <th>genre</th>\n",
              "      <td>62</td>\n",
              "      <td>0.000793</td>\n",
              "    </tr>\n",
              "    <tr>\n",
              "      <th>type</th>\n",
              "      <td>25</td>\n",
              "      <td>0.000320</td>\n",
              "    </tr>\n",
              "  </tbody>\n",
              "</table>\n",
              "</div>"
            ],
            "text/plain": [
              "        Miss count  Miss percent\n",
              "rating         230      0.002944\n",
              "genre           62      0.000793\n",
              "type            25      0.000320"
            ]
          },
          "execution_count": 5,
          "metadata": {},
          "output_type": "execute_result"
        }
      ],
      "source": [
        "missing = anime.isna().sum()\n",
        "mis_per = 100 * missing / len(rating)\n",
        "mis_table = pd.DataFrame({\"Miss count\": missing, \n",
        "                          \"Miss percent\": mis_per}).sort_values(by = \"Miss percent\", ascending=False)\n",
        "mis_table[mis_table['Miss count'] != 0]"
      ]
    },
    {
      "cell_type": "code",
      "execution_count": null,
      "id": "4674cf60",
      "metadata": {
        "scrolled": true,
        "id": "4674cf60",
        "outputId": "3b94a507-2322-42e6-a96b-d193ef602e17"
      },
      "outputs": [
        {
          "data": {
            "text/html": [
              "<div>\n",
              "<style scoped>\n",
              "    .dataframe tbody tr th:only-of-type {\n",
              "        vertical-align: middle;\n",
              "    }\n",
              "\n",
              "    .dataframe tbody tr th {\n",
              "        vertical-align: top;\n",
              "    }\n",
              "\n",
              "    .dataframe thead th {\n",
              "        text-align: right;\n",
              "    }\n",
              "</style>\n",
              "<table border=\"1\" class=\"dataframe\">\n",
              "  <thead>\n",
              "    <tr style=\"text-align: right;\">\n",
              "      <th></th>\n",
              "      <th>Miss count</th>\n",
              "      <th>Miss percent</th>\n",
              "    </tr>\n",
              "  </thead>\n",
              "  <tbody>\n",
              "    <tr>\n",
              "      <th>episodes</th>\n",
              "      <td>187</td>\n",
              "      <td>0.002951</td>\n",
              "    </tr>\n",
              "  </tbody>\n",
              "</table>\n",
              "</div>"
            ],
            "text/plain": [
              "          Miss count  Miss percent\n",
              "episodes         187      0.002951"
            ]
          },
          "execution_count": 47,
          "metadata": {},
          "output_type": "execute_result"
        }
      ],
      "source": [
        "missing = anime.isin(['Unknown']).sum()\n",
        "mis_per = 100 * missing / len(rating)\n",
        "mis_table = pd.DataFrame({\"Miss count\": missing, \n",
        "                          \"Miss percent\": mis_per}).sort_values(by = \"Miss percent\", ascending=False)\n",
        "mis_table[mis_table['Miss count'] != 0]"
      ]
    },
    {
      "cell_type": "code",
      "execution_count": null,
      "id": "a35fecc7",
      "metadata": {
        "id": "a35fecc7",
        "outputId": "ed2bd3fb-fbe4-440f-df62-7d6e495f5b33"
      },
      "outputs": [
        {
          "data": {
            "text/html": [
              "<div>\n",
              "<style scoped>\n",
              "    .dataframe tbody tr th:only-of-type {\n",
              "        vertical-align: middle;\n",
              "    }\n",
              "\n",
              "    .dataframe tbody tr th {\n",
              "        vertical-align: top;\n",
              "    }\n",
              "\n",
              "    .dataframe thead th {\n",
              "        text-align: right;\n",
              "    }\n",
              "</style>\n",
              "<table border=\"1\" class=\"dataframe\">\n",
              "  <thead>\n",
              "    <tr style=\"text-align: right;\">\n",
              "      <th></th>\n",
              "      <th>Miss count</th>\n",
              "      <th>Miss percent</th>\n",
              "    </tr>\n",
              "  </thead>\n",
              "  <tbody>\n",
              "  </tbody>\n",
              "</table>\n",
              "</div>"
            ],
            "text/plain": [
              "Empty DataFrame\n",
              "Columns: [Miss count, Miss percent]\n",
              "Index: []"
            ]
          },
          "execution_count": 48,
          "metadata": {},
          "output_type": "execute_result"
        }
      ],
      "source": [
        "missing = rating.isna().sum()\n",
        "mis_per = 100 * missing / len(rating)\n",
        "mis_table = pd.DataFrame({\"Miss count\": missing, \n",
        "                          \"Miss percent\": mis_per}).sort_values(by = \"Miss percent\", ascending=False)\n",
        "mis_table[mis_table['Miss count'] != 0]"
      ]
    },
    {
      "cell_type": "code",
      "execution_count": null,
      "id": "126b23e5",
      "metadata": {
        "scrolled": true,
        "id": "126b23e5",
        "outputId": "0ca2404e-0718-4f71-ca19-cc001cd489b6"
      },
      "outputs": [
        {
          "data": {
            "text/html": [
              "<div>\n",
              "<style scoped>\n",
              "    .dataframe tbody tr th:only-of-type {\n",
              "        vertical-align: middle;\n",
              "    }\n",
              "\n",
              "    .dataframe tbody tr th {\n",
              "        vertical-align: top;\n",
              "    }\n",
              "\n",
              "    .dataframe thead th {\n",
              "        text-align: right;\n",
              "    }\n",
              "</style>\n",
              "<table border=\"1\" class=\"dataframe\">\n",
              "  <thead>\n",
              "    <tr style=\"text-align: right;\">\n",
              "      <th></th>\n",
              "      <th>Miss count</th>\n",
              "      <th>Miss percent</th>\n",
              "    </tr>\n",
              "  </thead>\n",
              "  <tbody>\n",
              "    <tr>\n",
              "      <th>rating</th>\n",
              "      <td>1476496</td>\n",
              "      <td>18.896157</td>\n",
              "    </tr>\n",
              "  </tbody>\n",
              "</table>\n",
              "</div>"
            ],
            "text/plain": [
              "        Miss count  Miss percent\n",
              "rating     1476496     18.896157"
            ]
          },
          "execution_count": 6,
          "metadata": {},
          "output_type": "execute_result"
        }
      ],
      "source": [
        "missing = rating.isin([-1]).sum()\n",
        "mis_per = 100 * missing / len(rating)\n",
        "mis_table = pd.DataFrame({\"Miss count\": missing, \n",
        "                          \"Miss percent\": mis_per}).sort_values(by = \"Miss percent\", ascending=False)\n",
        "mis_table[mis_table['Miss count'] != 0]"
      ]
    },
    {
      "cell_type": "code",
      "execution_count": null,
      "id": "ba6ad03e",
      "metadata": {
        "id": "ba6ad03e",
        "outputId": "0a6ce1c1-5186-4ce4-d253-91c2a2c944a8"
      },
      "outputs": [
        {
          "data": {
            "text/plain": [
              "((73515,), (11200,))"
            ]
          },
          "execution_count": 7,
          "metadata": {},
          "output_type": "execute_result"
        }
      ],
      "source": [
        "rating['user_id'].unique().shape, rating['anime_id'].unique().shape"
      ]
    },
    {
      "cell_type": "markdown",
      "id": "ac27d7da",
      "metadata": {
        "id": "ac27d7da"
      },
      "source": [
        "## Data Upd"
      ]
    },
    {
      "cell_type": "code",
      "execution_count": null,
      "id": "70acf4e1",
      "metadata": {
        "id": "70acf4e1"
      },
      "outputs": [],
      "source": [
        "rating = rating[rating['rating'] != -1].dropna().drop_duplicates()\n",
        "anime = anime[anime['episodes'] != 'Unknown'].dropna().drop_duplicates()"
      ]
    },
    {
      "cell_type": "markdown",
      "id": "94432167",
      "metadata": {
        "id": "94432167"
      },
      "source": [
        "# Recommendation System I"
      ]
    },
    {
      "cell_type": "markdown",
      "id": "3f357f54",
      "metadata": {
        "id": "3f357f54"
      },
      "source": [
        "## User DATA"
      ]
    },
    {
      "cell_type": "code",
      "execution_count": null,
      "id": "5c1699f9",
      "metadata": {
        "id": "5c1699f9"
      },
      "outputs": [],
      "source": [
        "GENRES = set()\n",
        "for genre in np.array(anime['genre']):\n",
        "    GENRES |= {g for g in genre.split(', ')}"
      ]
    },
    {
      "cell_type": "code",
      "execution_count": null,
      "id": "ed3670d9",
      "metadata": {
        "id": "ed3670d9"
      },
      "outputs": [],
      "source": [
        "n_users = rating['user_id'].unique().shape[0]"
      ]
    },
    {
      "cell_type": "code",
      "execution_count": null,
      "id": "81f87103",
      "metadata": {
        "id": "81f87103"
      },
      "outputs": [],
      "source": [
        "users = dict(list({'user_id': rating['user_id'].unique()}.items()) + \\\n",
        "             list({g: np.zeros(n_users) for g in GENRES}.items()))"
      ]
    },
    {
      "cell_type": "code",
      "execution_count": null,
      "id": "cdf90d0b",
      "metadata": {
        "scrolled": false,
        "id": "cdf90d0b",
        "outputId": "601e9027-dda8-447b-d164-875ec855f712"
      },
      "outputs": [
        {
          "name": "stdout",
          "output_type": "stream",
          "text": [
            "Progress: 69599/69600\n"
          ]
        }
      ],
      "source": [
        "from IPython.display import clear_output\n",
        "\n",
        "\n",
        "def progress(i, n):\n",
        "    clear_output(wait=True)\n",
        "    print('Progress: %d/%d' % (i, n))\n",
        "\n",
        "    \n",
        "for i, user in enumerate(users['user_id']):\n",
        "    progress(i, len(users['user_id']))\n",
        "    rate = rating[rating['user_id'] == user]\n",
        "    genre = np.array(anime[anime['anime_id'].isin(rate['anime_id'])]['genre'])\n",
        "    genre = [g.split(', ') for g in genre]\n",
        "    rate = np.array(rate['rating'])\n",
        "    for r, gre in zip(rate, genre):\n",
        "        for g in gre:\n",
        "            users[g][i] += r"
      ]
    },
    {
      "cell_type": "code",
      "execution_count": null,
      "id": "c1e4912e",
      "metadata": {
        "id": "c1e4912e",
        "outputId": "9267736b-4fdb-41d5-e843-538ef8868d25"
      },
      "outputs": [
        {
          "data": {
            "text/html": [
              "<div>\n",
              "<style scoped>\n",
              "    .dataframe tbody tr th:only-of-type {\n",
              "        vertical-align: middle;\n",
              "    }\n",
              "\n",
              "    .dataframe tbody tr th {\n",
              "        vertical-align: top;\n",
              "    }\n",
              "\n",
              "    .dataframe thead th {\n",
              "        text-align: right;\n",
              "    }\n",
              "</style>\n",
              "<table border=\"1\" class=\"dataframe\">\n",
              "  <thead>\n",
              "    <tr style=\"text-align: right;\">\n",
              "      <th></th>\n",
              "      <th>user_id</th>\n",
              "      <th>Martial Arts</th>\n",
              "      <th>Mecha</th>\n",
              "      <th>Yuri</th>\n",
              "      <th>Mystery</th>\n",
              "      <th>Magic</th>\n",
              "      <th>Demons</th>\n",
              "      <th>Seinen</th>\n",
              "      <th>Shounen</th>\n",
              "      <th>Drama</th>\n",
              "      <th>...</th>\n",
              "      <th>School</th>\n",
              "      <th>Sci-Fi</th>\n",
              "      <th>Cars</th>\n",
              "      <th>Parody</th>\n",
              "      <th>Thriller</th>\n",
              "      <th>Psychological</th>\n",
              "      <th>Vampire</th>\n",
              "      <th>Romance</th>\n",
              "      <th>Sports</th>\n",
              "      <th>Josei</th>\n",
              "    </tr>\n",
              "  </thead>\n",
              "  <tbody>\n",
              "    <tr>\n",
              "      <th>0</th>\n",
              "      <td>1</td>\n",
              "      <td>0.0</td>\n",
              "      <td>0.0</td>\n",
              "      <td>0.0</td>\n",
              "      <td>0.0</td>\n",
              "      <td>0.0</td>\n",
              "      <td>20.0</td>\n",
              "      <td>0.0</td>\n",
              "      <td>0.0</td>\n",
              "      <td>0.0</td>\n",
              "      <td>...</td>\n",
              "      <td>20.0</td>\n",
              "      <td>0.0</td>\n",
              "      <td>0.0</td>\n",
              "      <td>0.0</td>\n",
              "      <td>0.0</td>\n",
              "      <td>0.0</td>\n",
              "      <td>0.0</td>\n",
              "      <td>30.0</td>\n",
              "      <td>0.0</td>\n",
              "      <td>0.0</td>\n",
              "    </tr>\n",
              "    <tr>\n",
              "      <th>1</th>\n",
              "      <td>2</td>\n",
              "      <td>0.0</td>\n",
              "      <td>0.0</td>\n",
              "      <td>0.0</td>\n",
              "      <td>0.0</td>\n",
              "      <td>0.0</td>\n",
              "      <td>0.0</td>\n",
              "      <td>0.0</td>\n",
              "      <td>10.0</td>\n",
              "      <td>0.0</td>\n",
              "      <td>...</td>\n",
              "      <td>10.0</td>\n",
              "      <td>0.0</td>\n",
              "      <td>0.0</td>\n",
              "      <td>0.0</td>\n",
              "      <td>0.0</td>\n",
              "      <td>0.0</td>\n",
              "      <td>0.0</td>\n",
              "      <td>0.0</td>\n",
              "      <td>10.0</td>\n",
              "      <td>0.0</td>\n",
              "    </tr>\n",
              "    <tr>\n",
              "      <th>2</th>\n",
              "      <td>3</td>\n",
              "      <td>24.0</td>\n",
              "      <td>8.0</td>\n",
              "      <td>0.0</td>\n",
              "      <td>77.0</td>\n",
              "      <td>101.0</td>\n",
              "      <td>28.0</td>\n",
              "      <td>25.0</td>\n",
              "      <td>303.0</td>\n",
              "      <td>237.0</td>\n",
              "      <td>...</td>\n",
              "      <td>95.0</td>\n",
              "      <td>63.0</td>\n",
              "      <td>0.0</td>\n",
              "      <td>0.0</td>\n",
              "      <td>33.0</td>\n",
              "      <td>79.0</td>\n",
              "      <td>8.0</td>\n",
              "      <td>72.0</td>\n",
              "      <td>72.0</td>\n",
              "      <td>0.0</td>\n",
              "    </tr>\n",
              "    <tr>\n",
              "      <th>3</th>\n",
              "      <td>5</td>\n",
              "      <td>121.0</td>\n",
              "      <td>32.0</td>\n",
              "      <td>0.0</td>\n",
              "      <td>98.0</td>\n",
              "      <td>142.0</td>\n",
              "      <td>97.0</td>\n",
              "      <td>234.0</td>\n",
              "      <td>755.0</td>\n",
              "      <td>375.0</td>\n",
              "      <td>...</td>\n",
              "      <td>608.0</td>\n",
              "      <td>326.0</td>\n",
              "      <td>13.0</td>\n",
              "      <td>83.0</td>\n",
              "      <td>33.0</td>\n",
              "      <td>72.0</td>\n",
              "      <td>36.0</td>\n",
              "      <td>671.0</td>\n",
              "      <td>190.0</td>\n",
              "      <td>8.0</td>\n",
              "    </tr>\n",
              "    <tr>\n",
              "      <th>4</th>\n",
              "      <td>7</td>\n",
              "      <td>46.0</td>\n",
              "      <td>173.0</td>\n",
              "      <td>0.0</td>\n",
              "      <td>200.0</td>\n",
              "      <td>314.0</td>\n",
              "      <td>185.0</td>\n",
              "      <td>393.0</td>\n",
              "      <td>605.0</td>\n",
              "      <td>371.0</td>\n",
              "      <td>...</td>\n",
              "      <td>844.0</td>\n",
              "      <td>569.0</td>\n",
              "      <td>0.0</td>\n",
              "      <td>114.0</td>\n",
              "      <td>86.0</td>\n",
              "      <td>190.0</td>\n",
              "      <td>65.0</td>\n",
              "      <td>946.0</td>\n",
              "      <td>87.0</td>\n",
              "      <td>0.0</td>\n",
              "    </tr>\n",
              "  </tbody>\n",
              "</table>\n",
              "<p>5 rows × 44 columns</p>\n",
              "</div>"
            ],
            "text/plain": [
              "   user_id  Martial Arts  Mecha  Yuri  Mystery  Magic  Demons  Seinen  \\\n",
              "0        1           0.0    0.0   0.0      0.0    0.0    20.0     0.0   \n",
              "1        2           0.0    0.0   0.0      0.0    0.0     0.0     0.0   \n",
              "2        3          24.0    8.0   0.0     77.0  101.0    28.0    25.0   \n",
              "3        5         121.0   32.0   0.0     98.0  142.0    97.0   234.0   \n",
              "4        7          46.0  173.0   0.0    200.0  314.0   185.0   393.0   \n",
              "\n",
              "   Shounen  Drama  ...  School  Sci-Fi  Cars  Parody  Thriller  Psychological  \\\n",
              "0      0.0    0.0  ...    20.0     0.0   0.0     0.0       0.0            0.0   \n",
              "1     10.0    0.0  ...    10.0     0.0   0.0     0.0       0.0            0.0   \n",
              "2    303.0  237.0  ...    95.0    63.0   0.0     0.0      33.0           79.0   \n",
              "3    755.0  375.0  ...   608.0   326.0  13.0    83.0      33.0           72.0   \n",
              "4    605.0  371.0  ...   844.0   569.0   0.0   114.0      86.0          190.0   \n",
              "\n",
              "   Vampire  Romance  Sports  Josei  \n",
              "0      0.0     30.0     0.0    0.0  \n",
              "1      0.0      0.0    10.0    0.0  \n",
              "2      8.0     72.0    72.0    0.0  \n",
              "3     36.0    671.0   190.0    8.0  \n",
              "4     65.0    946.0    87.0    0.0  \n",
              "\n",
              "[5 rows x 44 columns]"
            ]
          },
          "execution_count": 16,
          "metadata": {},
          "output_type": "execute_result"
        }
      ],
      "source": [
        "users = pd.DataFrame(users)\n",
        "users.head()"
      ]
    },
    {
      "cell_type": "code",
      "execution_count": null,
      "id": "d5e39201",
      "metadata": {
        "id": "d5e39201"
      },
      "outputs": [],
      "source": [
        "users = users[['user_id'] + sorted(users.drop(columns=['user_id']).columns)]"
      ]
    },
    {
      "cell_type": "code",
      "execution_count": null,
      "id": "58dfcdd5",
      "metadata": {
        "id": "58dfcdd5"
      },
      "outputs": [],
      "source": [
        "users.to_csv('users.csv', index=False)"
      ]
    },
    {
      "cell_type": "markdown",
      "id": "45ba87d8",
      "metadata": {
        "id": "45ba87d8"
      },
      "source": [
        "## Clusters"
      ]
    },
    {
      "cell_type": "code",
      "execution_count": null,
      "id": "ed077163",
      "metadata": {
        "scrolled": true,
        "id": "ed077163",
        "outputId": "3e9dd3ed-e52f-41f3-8412-e6db4d106707"
      },
      "outputs": [
        {
          "data": {
            "text/plain": [
              "KMeans(n_clusters=256)"
            ]
          },
          "execution_count": 154,
          "metadata": {},
          "output_type": "execute_result"
        }
      ],
      "source": [
        "from sklearn.cluster import KMeans\n",
        "import pickle\n",
        "\n",
        "\n",
        "kmeans = KMeans(n_clusters=256)\n",
        "kmeans.fit(users.drop(columns=['user_id']))\n",
        "pickle.dump(kmeans, open('kmeans.model', 'wb'))"
      ]
    },
    {
      "cell_type": "code",
      "execution_count": null,
      "id": "af5fb896",
      "metadata": {
        "id": "af5fb896",
        "outputId": "ccf8a51c-389b-4344-85b0-4593b76f7c0f"
      },
      "outputs": [
        {
          "data": {
            "text/plain": [
              "(10600, 271.875, 1)"
            ]
          },
          "execution_count": 155,
          "metadata": {},
          "output_type": "execute_result"
        }
      ],
      "source": [
        "np.unique(kmeans.labels_, return_counts=True)[1].max(), \\\n",
        "np.unique(kmeans.labels_, return_counts=True)[1].mean(), \\\n",
        "np.unique(kmeans.labels_, return_counts=True)[1].min()"
      ]
    },
    {
      "cell_type": "code",
      "execution_count": null,
      "id": "af37ce07",
      "metadata": {
        "scrolled": false,
        "id": "af37ce07",
        "outputId": "0581333a-6756-4944-c8f3-e926c5d1d42b"
      },
      "outputs": [
        {
          "data": {
            "text/html": [
              "<div>\n",
              "<style scoped>\n",
              "    .dataframe tbody tr th:only-of-type {\n",
              "        vertical-align: middle;\n",
              "    }\n",
              "\n",
              "    .dataframe tbody tr th {\n",
              "        vertical-align: top;\n",
              "    }\n",
              "\n",
              "    .dataframe thead th {\n",
              "        text-align: right;\n",
              "    }\n",
              "</style>\n",
              "<table border=\"1\" class=\"dataframe\">\n",
              "  <thead>\n",
              "    <tr style=\"text-align: right;\">\n",
              "      <th></th>\n",
              "      <th>user_id</th>\n",
              "      <th>cluster</th>\n",
              "      <th>Action</th>\n",
              "      <th>Adventure</th>\n",
              "      <th>Cars</th>\n",
              "      <th>Comedy</th>\n",
              "      <th>Dementia</th>\n",
              "      <th>Demons</th>\n",
              "      <th>Drama</th>\n",
              "      <th>Ecchi</th>\n",
              "      <th>...</th>\n",
              "      <th>Shounen Ai</th>\n",
              "      <th>Slice of Life</th>\n",
              "      <th>Space</th>\n",
              "      <th>Sports</th>\n",
              "      <th>Super Power</th>\n",
              "      <th>Supernatural</th>\n",
              "      <th>Thriller</th>\n",
              "      <th>Vampire</th>\n",
              "      <th>Yaoi</th>\n",
              "      <th>Yuri</th>\n",
              "    </tr>\n",
              "  </thead>\n",
              "  <tbody>\n",
              "    <tr>\n",
              "      <th>0</th>\n",
              "      <td>1</td>\n",
              "      <td>8</td>\n",
              "      <td>30.0</td>\n",
              "      <td>10.0</td>\n",
              "      <td>0.0</td>\n",
              "      <td>20.0</td>\n",
              "      <td>0.0</td>\n",
              "      <td>20.0</td>\n",
              "      <td>0.0</td>\n",
              "      <td>30.0</td>\n",
              "      <td>...</td>\n",
              "      <td>0.0</td>\n",
              "      <td>0.0</td>\n",
              "      <td>0.0</td>\n",
              "      <td>0.0</td>\n",
              "      <td>0.0</td>\n",
              "      <td>10.0</td>\n",
              "      <td>0.0</td>\n",
              "      <td>0.0</td>\n",
              "      <td>0.0</td>\n",
              "      <td>0.0</td>\n",
              "    </tr>\n",
              "    <tr>\n",
              "      <th>1</th>\n",
              "      <td>2</td>\n",
              "      <td>8</td>\n",
              "      <td>0.0</td>\n",
              "      <td>0.0</td>\n",
              "      <td>0.0</td>\n",
              "      <td>10.0</td>\n",
              "      <td>0.0</td>\n",
              "      <td>0.0</td>\n",
              "      <td>0.0</td>\n",
              "      <td>0.0</td>\n",
              "      <td>...</td>\n",
              "      <td>0.0</td>\n",
              "      <td>0.0</td>\n",
              "      <td>0.0</td>\n",
              "      <td>10.0</td>\n",
              "      <td>0.0</td>\n",
              "      <td>0.0</td>\n",
              "      <td>0.0</td>\n",
              "      <td>0.0</td>\n",
              "      <td>0.0</td>\n",
              "      <td>0.0</td>\n",
              "    </tr>\n",
              "    <tr>\n",
              "      <th>2</th>\n",
              "      <td>3</td>\n",
              "      <td>236</td>\n",
              "      <td>472.0</td>\n",
              "      <td>366.0</td>\n",
              "      <td>0.0</td>\n",
              "      <td>292.0</td>\n",
              "      <td>0.0</td>\n",
              "      <td>28.0</td>\n",
              "      <td>237.0</td>\n",
              "      <td>42.0</td>\n",
              "      <td>...</td>\n",
              "      <td>0.0</td>\n",
              "      <td>36.0</td>\n",
              "      <td>0.0</td>\n",
              "      <td>72.0</td>\n",
              "      <td>65.0</td>\n",
              "      <td>184.0</td>\n",
              "      <td>33.0</td>\n",
              "      <td>8.0</td>\n",
              "      <td>0.0</td>\n",
              "      <td>0.0</td>\n",
              "    </tr>\n",
              "    <tr>\n",
              "      <th>3</th>\n",
              "      <td>5</td>\n",
              "      <td>217</td>\n",
              "      <td>666.0</td>\n",
              "      <td>410.0</td>\n",
              "      <td>13.0</td>\n",
              "      <td>1398.0</td>\n",
              "      <td>6.0</td>\n",
              "      <td>97.0</td>\n",
              "      <td>375.0</td>\n",
              "      <td>428.0</td>\n",
              "      <td>...</td>\n",
              "      <td>0.0</td>\n",
              "      <td>317.0</td>\n",
              "      <td>16.0</td>\n",
              "      <td>190.0</td>\n",
              "      <td>156.0</td>\n",
              "      <td>446.0</td>\n",
              "      <td>33.0</td>\n",
              "      <td>36.0</td>\n",
              "      <td>0.0</td>\n",
              "      <td>0.0</td>\n",
              "    </tr>\n",
              "    <tr>\n",
              "      <th>4</th>\n",
              "      <td>7</td>\n",
              "      <td>10</td>\n",
              "      <td>933.0</td>\n",
              "      <td>453.0</td>\n",
              "      <td>0.0</td>\n",
              "      <td>1449.0</td>\n",
              "      <td>26.0</td>\n",
              "      <td>185.0</td>\n",
              "      <td>371.0</td>\n",
              "      <td>546.0</td>\n",
              "      <td>...</td>\n",
              "      <td>0.0</td>\n",
              "      <td>375.0</td>\n",
              "      <td>0.0</td>\n",
              "      <td>87.0</td>\n",
              "      <td>253.0</td>\n",
              "      <td>570.0</td>\n",
              "      <td>86.0</td>\n",
              "      <td>65.0</td>\n",
              "      <td>0.0</td>\n",
              "      <td>0.0</td>\n",
              "    </tr>\n",
              "  </tbody>\n",
              "</table>\n",
              "<p>5 rows × 45 columns</p>\n",
              "</div>"
            ],
            "text/plain": [
              "   user_id  cluster  Action  Adventure  Cars  Comedy  Dementia  Demons  Drama  \\\n",
              "0        1        8    30.0       10.0   0.0    20.0       0.0    20.0    0.0   \n",
              "1        2        8     0.0        0.0   0.0    10.0       0.0     0.0    0.0   \n",
              "2        3      236   472.0      366.0   0.0   292.0       0.0    28.0  237.0   \n",
              "3        5      217   666.0      410.0  13.0  1398.0       6.0    97.0  375.0   \n",
              "4        7       10   933.0      453.0   0.0  1449.0      26.0   185.0  371.0   \n",
              "\n",
              "   Ecchi  ...  Shounen Ai  Slice of Life  Space  Sports  Super Power  \\\n",
              "0   30.0  ...         0.0            0.0    0.0     0.0          0.0   \n",
              "1    0.0  ...         0.0            0.0    0.0    10.0          0.0   \n",
              "2   42.0  ...         0.0           36.0    0.0    72.0         65.0   \n",
              "3  428.0  ...         0.0          317.0   16.0   190.0        156.0   \n",
              "4  546.0  ...         0.0          375.0    0.0    87.0        253.0   \n",
              "\n",
              "   Supernatural  Thriller  Vampire  Yaoi  Yuri  \n",
              "0          10.0       0.0      0.0   0.0   0.0  \n",
              "1           0.0       0.0      0.0   0.0   0.0  \n",
              "2         184.0      33.0      8.0   0.0   0.0  \n",
              "3         446.0      33.0     36.0   0.0   0.0  \n",
              "4         570.0      86.0     65.0   0.0   0.0  \n",
              "\n",
              "[5 rows x 45 columns]"
            ]
          },
          "execution_count": 157,
          "metadata": {},
          "output_type": "execute_result"
        }
      ],
      "source": [
        "users['cluster'] = kmeans.labels_\n",
        "keys_g = users.drop(columns=['user_id', 'cluster']).columns.tolist()\n",
        "users = users[['user_id', 'cluster'] + keys_g]\n",
        "users.head()"
      ]
    },
    {
      "cell_type": "code",
      "execution_count": null,
      "id": "fcffda6b",
      "metadata": {
        "id": "fcffda6b",
        "outputId": "b67c52c8-4fbc-4b45-889f-536c7ad7edfd"
      },
      "outputs": [
        {
          "data": {
            "text/plain": [
              "8"
            ]
          },
          "execution_count": 158,
          "metadata": {},
          "output_type": "execute_result"
        }
      ],
      "source": [
        "np.unique(users['cluster'], return_counts=True)[1].argmax()"
      ]
    },
    {
      "cell_type": "code",
      "execution_count": null,
      "id": "20f389a0",
      "metadata": {
        "id": "20f389a0",
        "outputId": "6e1e2261-b007-491c-ba74-55418ae5de3f"
      },
      "outputs": [
        {
          "data": {
            "text/plain": [
              "user_id          36967.602453\n",
              "cluster              8.000000\n",
              "Action              10.422075\n",
              "Adventure            5.085943\n",
              "Cars                 0.036226\n",
              "Comedy              11.943679\n",
              "Dementia             0.344717\n",
              "Demons               1.277642\n",
              "Drama                7.873302\n",
              "Ecchi                1.833396\n",
              "Fantasy              6.038396\n",
              "Game                 0.965755\n",
              "Harem                1.849528\n",
              "Hentai               0.728679\n",
              "Historical           1.181981\n",
              "Horror               1.802264\n",
              "Josei                0.269057\n",
              "Kids                 0.184434\n",
              "Magic                2.476132\n",
              "Martial Arts         1.111604\n",
              "Mecha                1.559057\n",
              "Military             1.441226\n",
              "Music                0.710660\n",
              "Mystery              3.730566\n",
              "Parody               0.862830\n",
              "Police               1.225472\n",
              "Psychological        3.024906\n",
              "Romance              8.391792\n",
              "Samurai              0.389340\n",
              "School               6.305943\n",
              "Sci-Fi               4.097547\n",
              "Seinen               1.817075\n",
              "Shoujo               3.250849\n",
              "Shoujo Ai            0.184434\n",
              "Shounen              6.051321\n",
              "Shounen Ai           0.355849\n",
              "Slice of Life        3.685000\n",
              "Space                0.374057\n",
              "Sports               0.798208\n",
              "Super Power          3.095094\n",
              "Supernatural         7.392736\n",
              "Thriller             2.213585\n",
              "Vampire              0.931887\n",
              "Yaoi                 0.168019\n",
              "Yuri                 0.032830\n",
              "dtype: float64"
            ]
          },
          "execution_count": 160,
          "metadata": {},
          "output_type": "execute_result"
        }
      ],
      "source": [
        "users[users['cluster']==8].mean()"
      ]
    },
    {
      "cell_type": "code",
      "execution_count": null,
      "id": "2fa203a3",
      "metadata": {
        "id": "2fa203a3"
      },
      "outputs": [],
      "source": [
        "users.to_csv('users_cl.csv', index=False)"
      ]
    },
    {
      "cell_type": "markdown",
      "id": "2eeb5c4e",
      "metadata": {
        "id": "2eeb5c4e"
      },
      "source": [
        "## Anime top for cluster"
      ]
    },
    {
      "cell_type": "code",
      "execution_count": null,
      "id": "a91b8688",
      "metadata": {
        "id": "a91b8688"
      },
      "outputs": [],
      "source": [
        "n_cluster = 256\n",
        "anime_top = {cluster: [] for cluster in range(n_cluster)}"
      ]
    },
    {
      "cell_type": "code",
      "execution_count": null,
      "id": "1ea3755d",
      "metadata": {
        "scrolled": false,
        "id": "1ea3755d"
      },
      "outputs": [],
      "source": [
        "for cluster in anime_top:\n",
        "    usr = np.array(users[users['cluster'] == cluster]['user_id'])\n",
        "    rtg = rating[rating['user_id'].isin(usr)][['anime_id', \n",
        "                                               'rating']].groupby('anime_id').mean().sort_values('rating', ascending=False)\n",
        "    anime_top[cluster] = rtg.index.tolist()"
      ]
    },
    {
      "cell_type": "code",
      "execution_count": null,
      "id": "ccdfb5b1",
      "metadata": {
        "id": "ccdfb5b1"
      },
      "outputs": [],
      "source": [
        "import json\n",
        "\n",
        "\n",
        "with open('anime_top_for_cluster.json', 'w') as file:\n",
        "    json.dump(anime_top, file)"
      ]
    },
    {
      "cell_type": "markdown",
      "id": "4af8fd48",
      "metadata": {
        "id": "4af8fd48"
      },
      "source": [
        "# Recommendation System II"
      ]
    },
    {
      "cell_type": "markdown",
      "id": "7f452480",
      "metadata": {
        "id": "7f452480"
      },
      "source": [
        "## Data"
      ]
    },
    {
      "cell_type": "markdown",
      "id": "dc8c3c9f",
      "metadata": {
        "id": "dc8c3c9f"
      },
      "source": [
        "### Anime DATA"
      ]
    },
    {
      "cell_type": "code",
      "execution_count": null,
      "id": "37d7e900",
      "metadata": {
        "id": "37d7e900"
      },
      "outputs": [],
      "source": [
        "data_anime = anime.drop(columns=['name'])"
      ]
    },
    {
      "cell_type": "code",
      "execution_count": null,
      "id": "5ab6dc3e",
      "metadata": {
        "id": "5ab6dc3e"
      },
      "outputs": [],
      "source": [
        "n_anime = data_anime['anime_id'].unique().shape[0]"
      ]
    },
    {
      "cell_type": "code",
      "execution_count": null,
      "id": "2b64e8d2",
      "metadata": {
        "id": "2b64e8d2"
      },
      "outputs": [],
      "source": [
        "tpe = {t: np.zeros(n_anime).astype(int) for t in set(data_anime['type'])}\n",
        "gnr = {g: np.zeros(n_anime).astype(int) for g in GENRES}"
      ]
    },
    {
      "cell_type": "code",
      "execution_count": null,
      "id": "3334552d",
      "metadata": {
        "id": "3334552d"
      },
      "outputs": [],
      "source": [
        "for i, gr in enumerate(data_anime['genre']):\n",
        "    gr = gr.split(', ')\n",
        "    for g in gr:\n",
        "        gnr[g][i] = 1\n",
        "        \n",
        "for i, t in enumerate(data_anime['type']):\n",
        "    tpe[t][i] = 1"
      ]
    },
    {
      "cell_type": "code",
      "execution_count": null,
      "id": "c4d8fe4d",
      "metadata": {
        "id": "c4d8fe4d"
      },
      "outputs": [],
      "source": [
        "data_anime = data_anime.drop(columns=['genre', 'type'])"
      ]
    },
    {
      "cell_type": "code",
      "execution_count": null,
      "id": "1af53138",
      "metadata": {
        "id": "1af53138"
      },
      "outputs": [],
      "source": [
        "for key in sorted(tpe):\n",
        "    data_anime[key] = tpe[key]\n",
        "    \n",
        "for key in sorted(gnr):\n",
        "    data_anime[key] = gnr[key]"
      ]
    },
    {
      "cell_type": "code",
      "execution_count": null,
      "id": "9707f8aa",
      "metadata": {
        "scrolled": true,
        "id": "9707f8aa",
        "outputId": "2810c78a-8651-4ce0-e8b2-7501704903d4"
      },
      "outputs": [
        {
          "data": {
            "text/html": [
              "<div>\n",
              "<style scoped>\n",
              "    .dataframe tbody tr th:only-of-type {\n",
              "        vertical-align: middle;\n",
              "    }\n",
              "\n",
              "    .dataframe tbody tr th {\n",
              "        vertical-align: top;\n",
              "    }\n",
              "\n",
              "    .dataframe thead th {\n",
              "        text-align: right;\n",
              "    }\n",
              "</style>\n",
              "<table border=\"1\" class=\"dataframe\">\n",
              "  <thead>\n",
              "    <tr style=\"text-align: right;\">\n",
              "      <th></th>\n",
              "      <th>anime_id</th>\n",
              "      <th>episodes</th>\n",
              "      <th>rating</th>\n",
              "      <th>members</th>\n",
              "      <th>Movie</th>\n",
              "      <th>Music</th>\n",
              "      <th>ONA</th>\n",
              "      <th>OVA</th>\n",
              "      <th>Special</th>\n",
              "      <th>TV</th>\n",
              "      <th>...</th>\n",
              "      <th>Shounen Ai</th>\n",
              "      <th>Slice of Life</th>\n",
              "      <th>Space</th>\n",
              "      <th>Sports</th>\n",
              "      <th>Super Power</th>\n",
              "      <th>Supernatural</th>\n",
              "      <th>Thriller</th>\n",
              "      <th>Vampire</th>\n",
              "      <th>Yaoi</th>\n",
              "      <th>Yuri</th>\n",
              "    </tr>\n",
              "  </thead>\n",
              "  <tbody>\n",
              "    <tr>\n",
              "      <th>0</th>\n",
              "      <td>32281</td>\n",
              "      <td>1</td>\n",
              "      <td>9.37</td>\n",
              "      <td>200630</td>\n",
              "      <td>1</td>\n",
              "      <td>0</td>\n",
              "      <td>0</td>\n",
              "      <td>0</td>\n",
              "      <td>0</td>\n",
              "      <td>0</td>\n",
              "      <td>...</td>\n",
              "      <td>0</td>\n",
              "      <td>0</td>\n",
              "      <td>0</td>\n",
              "      <td>0</td>\n",
              "      <td>0</td>\n",
              "      <td>1</td>\n",
              "      <td>0</td>\n",
              "      <td>0</td>\n",
              "      <td>0</td>\n",
              "      <td>0</td>\n",
              "    </tr>\n",
              "    <tr>\n",
              "      <th>1</th>\n",
              "      <td>5114</td>\n",
              "      <td>64</td>\n",
              "      <td>9.26</td>\n",
              "      <td>793665</td>\n",
              "      <td>0</td>\n",
              "      <td>0</td>\n",
              "      <td>0</td>\n",
              "      <td>0</td>\n",
              "      <td>0</td>\n",
              "      <td>1</td>\n",
              "      <td>...</td>\n",
              "      <td>0</td>\n",
              "      <td>0</td>\n",
              "      <td>0</td>\n",
              "      <td>0</td>\n",
              "      <td>0</td>\n",
              "      <td>0</td>\n",
              "      <td>0</td>\n",
              "      <td>0</td>\n",
              "      <td>0</td>\n",
              "      <td>0</td>\n",
              "    </tr>\n",
              "    <tr>\n",
              "      <th>2</th>\n",
              "      <td>28977</td>\n",
              "      <td>51</td>\n",
              "      <td>9.25</td>\n",
              "      <td>114262</td>\n",
              "      <td>0</td>\n",
              "      <td>0</td>\n",
              "      <td>0</td>\n",
              "      <td>0</td>\n",
              "      <td>0</td>\n",
              "      <td>1</td>\n",
              "      <td>...</td>\n",
              "      <td>0</td>\n",
              "      <td>0</td>\n",
              "      <td>0</td>\n",
              "      <td>0</td>\n",
              "      <td>0</td>\n",
              "      <td>0</td>\n",
              "      <td>0</td>\n",
              "      <td>0</td>\n",
              "      <td>0</td>\n",
              "      <td>0</td>\n",
              "    </tr>\n",
              "    <tr>\n",
              "      <th>3</th>\n",
              "      <td>9253</td>\n",
              "      <td>24</td>\n",
              "      <td>9.17</td>\n",
              "      <td>673572</td>\n",
              "      <td>0</td>\n",
              "      <td>0</td>\n",
              "      <td>0</td>\n",
              "      <td>0</td>\n",
              "      <td>0</td>\n",
              "      <td>1</td>\n",
              "      <td>...</td>\n",
              "      <td>0</td>\n",
              "      <td>0</td>\n",
              "      <td>0</td>\n",
              "      <td>0</td>\n",
              "      <td>0</td>\n",
              "      <td>0</td>\n",
              "      <td>1</td>\n",
              "      <td>0</td>\n",
              "      <td>0</td>\n",
              "      <td>0</td>\n",
              "    </tr>\n",
              "    <tr>\n",
              "      <th>4</th>\n",
              "      <td>9969</td>\n",
              "      <td>51</td>\n",
              "      <td>9.16</td>\n",
              "      <td>151266</td>\n",
              "      <td>0</td>\n",
              "      <td>0</td>\n",
              "      <td>0</td>\n",
              "      <td>0</td>\n",
              "      <td>0</td>\n",
              "      <td>1</td>\n",
              "      <td>...</td>\n",
              "      <td>0</td>\n",
              "      <td>0</td>\n",
              "      <td>0</td>\n",
              "      <td>0</td>\n",
              "      <td>0</td>\n",
              "      <td>0</td>\n",
              "      <td>0</td>\n",
              "      <td>0</td>\n",
              "      <td>0</td>\n",
              "      <td>0</td>\n",
              "    </tr>\n",
              "  </tbody>\n",
              "</table>\n",
              "<p>5 rows × 52 columns</p>\n",
              "</div>"
            ],
            "text/plain": [
              "   anime_id episodes  rating  members  Movie  Music  ONA  OVA  Special  TV  \\\n",
              "0     32281        1    9.37   200630      1      0    0    0        0   0   \n",
              "1      5114       64    9.26   793665      0      0    0    0        0   1   \n",
              "2     28977       51    9.25   114262      0      0    0    0        0   1   \n",
              "3      9253       24    9.17   673572      0      0    0    0        0   1   \n",
              "4      9969       51    9.16   151266      0      0    0    0        0   1   \n",
              "\n",
              "   ...  Shounen Ai  Slice of Life  Space  Sports  Super Power  Supernatural  \\\n",
              "0  ...           0              0      0       0            0             1   \n",
              "1  ...           0              0      0       0            0             0   \n",
              "2  ...           0              0      0       0            0             0   \n",
              "3  ...           0              0      0       0            0             0   \n",
              "4  ...           0              0      0       0            0             0   \n",
              "\n",
              "   Thriller  Vampire  Yaoi  Yuri  \n",
              "0         0        0     0     0  \n",
              "1         0        0     0     0  \n",
              "2         0        0     0     0  \n",
              "3         1        0     0     0  \n",
              "4         0        0     0     0  \n",
              "\n",
              "[5 rows x 52 columns]"
            ]
          },
          "execution_count": 56,
          "metadata": {},
          "output_type": "execute_result"
        }
      ],
      "source": [
        "data_anime.head()"
      ]
    },
    {
      "cell_type": "code",
      "execution_count": null,
      "id": "b5a40b0b",
      "metadata": {
        "scrolled": true,
        "id": "b5a40b0b",
        "outputId": "0ce0bfaa-6cf0-4b2d-d255-a29b6630c1a9"
      },
      "outputs": [
        {
          "name": "stdout",
          "output_type": "stream",
          "text": [
            "<class 'pandas.core.frame.DataFrame'>\n",
            "Int64Index: 11830 entries, 0 to 12293\n",
            "Data columns (total 52 columns):\n",
            " #   Column         Non-Null Count  Dtype  \n",
            "---  ------         --------------  -----  \n",
            " 0   anime_id       11830 non-null  int64  \n",
            " 1   episodes       11830 non-null  object \n",
            " 2   rating         11830 non-null  float64\n",
            " 3   members        11830 non-null  int64  \n",
            " 4   Movie          11830 non-null  int32  \n",
            " 5   Music          11830 non-null  int32  \n",
            " 6   ONA            11830 non-null  int32  \n",
            " 7   OVA            11830 non-null  int32  \n",
            " 8   Special        11830 non-null  int32  \n",
            " 9   TV             11830 non-null  int32  \n",
            " 10  Action         11830 non-null  int32  \n",
            " 11  Adventure      11830 non-null  int32  \n",
            " 12  Cars           11830 non-null  int32  \n",
            " 13  Comedy         11830 non-null  int32  \n",
            " 14  Dementia       11830 non-null  int32  \n",
            " 15  Demons         11830 non-null  int32  \n",
            " 16  Drama          11830 non-null  int32  \n",
            " 17  Ecchi          11830 non-null  int32  \n",
            " 18  Fantasy        11830 non-null  int32  \n",
            " 19  Game           11830 non-null  int32  \n",
            " 20  Harem          11830 non-null  int32  \n",
            " 21  Hentai         11830 non-null  int32  \n",
            " 22  Historical     11830 non-null  int32  \n",
            " 23  Horror         11830 non-null  int32  \n",
            " 24  Josei          11830 non-null  int32  \n",
            " 25  Kids           11830 non-null  int32  \n",
            " 26  Magic          11830 non-null  int32  \n",
            " 27  Martial Arts   11830 non-null  int32  \n",
            " 28  Mecha          11830 non-null  int32  \n",
            " 29  Military       11830 non-null  int32  \n",
            " 30  Mystery        11830 non-null  int32  \n",
            " 31  Parody         11830 non-null  int32  \n",
            " 32  Police         11830 non-null  int32  \n",
            " 33  Psychological  11830 non-null  int32  \n",
            " 34  Romance        11830 non-null  int32  \n",
            " 35  Samurai        11830 non-null  int32  \n",
            " 36  School         11830 non-null  int32  \n",
            " 37  Sci-Fi         11830 non-null  int32  \n",
            " 38  Seinen         11830 non-null  int32  \n",
            " 39  Shoujo         11830 non-null  int32  \n",
            " 40  Shoujo Ai      11830 non-null  int32  \n",
            " 41  Shounen        11830 non-null  int32  \n",
            " 42  Shounen Ai     11830 non-null  int32  \n",
            " 43  Slice of Life  11830 non-null  int32  \n",
            " 44  Space          11830 non-null  int32  \n",
            " 45  Sports         11830 non-null  int32  \n",
            " 46  Super Power    11830 non-null  int32  \n",
            " 47  Supernatural   11830 non-null  int32  \n",
            " 48  Thriller       11830 non-null  int32  \n",
            " 49  Vampire        11830 non-null  int32  \n",
            " 50  Yaoi           11830 non-null  int32  \n",
            " 51  Yuri           11830 non-null  int32  \n",
            "dtypes: float64(1), int32(48), int64(2), object(1)\n",
            "memory usage: 2.6+ MB\n"
          ]
        }
      ],
      "source": [
        "data_anime.info()"
      ]
    },
    {
      "cell_type": "code",
      "execution_count": null,
      "id": "71a8e1bc",
      "metadata": {
        "id": "71a8e1bc"
      },
      "outputs": [],
      "source": [
        "data_anime['episodes'] = np.array(data_anime['episodes']).astype(int)"
      ]
    },
    {
      "cell_type": "code",
      "execution_count": null,
      "id": "ec2e9845",
      "metadata": {
        "id": "ec2e9845"
      },
      "outputs": [],
      "source": [
        "data_anime.to_csv('anime_cl.csv', index=False)"
      ]
    },
    {
      "cell_type": "markdown",
      "id": "ed64c006",
      "metadata": {
        "id": "ed64c006"
      },
      "source": [
        "### Data La Final"
      ]
    },
    {
      "cell_type": "code",
      "execution_count": null,
      "id": "36af344c",
      "metadata": {
        "id": "36af344c"
      },
      "outputs": [],
      "source": [
        "data = rating.merge(users, on='user_id', how='left').merge(data_anime, on='anime_id', how='left')"
      ]
    },
    {
      "cell_type": "code",
      "execution_count": null,
      "id": "def4ac5f",
      "metadata": {
        "scrolled": true,
        "id": "def4ac5f",
        "outputId": "d136e61e-4b55-4fba-f869-517ce84aff72"
      },
      "outputs": [
        {
          "data": {
            "text/html": [
              "<div>\n",
              "<style scoped>\n",
              "    .dataframe tbody tr th:only-of-type {\n",
              "        vertical-align: middle;\n",
              "    }\n",
              "\n",
              "    .dataframe tbody tr th {\n",
              "        vertical-align: top;\n",
              "    }\n",
              "\n",
              "    .dataframe thead th {\n",
              "        text-align: right;\n",
              "    }\n",
              "</style>\n",
              "<table border=\"1\" class=\"dataframe\">\n",
              "  <thead>\n",
              "    <tr style=\"text-align: right;\">\n",
              "      <th></th>\n",
              "      <th>target</th>\n",
              "      <th>cluster</th>\n",
              "      <th>Action_x</th>\n",
              "      <th>Adventure_x</th>\n",
              "      <th>Cars_x</th>\n",
              "      <th>Comedy_x</th>\n",
              "      <th>Dementia_x</th>\n",
              "      <th>Demons_x</th>\n",
              "      <th>Drama_x</th>\n",
              "      <th>Ecchi_x</th>\n",
              "      <th>...</th>\n",
              "      <th>Shounen Ai_y</th>\n",
              "      <th>Slice of Life_y</th>\n",
              "      <th>Space_y</th>\n",
              "      <th>Sports_y</th>\n",
              "      <th>Super Power_y</th>\n",
              "      <th>Supernatural_y</th>\n",
              "      <th>Thriller_y</th>\n",
              "      <th>Vampire_y</th>\n",
              "      <th>Yaoi_y</th>\n",
              "      <th>Yuri_y</th>\n",
              "    </tr>\n",
              "  </thead>\n",
              "  <tbody>\n",
              "    <tr>\n",
              "      <th>0</th>\n",
              "      <td>10</td>\n",
              "      <td>8</td>\n",
              "      <td>30.0</td>\n",
              "      <td>10.0</td>\n",
              "      <td>0.0</td>\n",
              "      <td>20.0</td>\n",
              "      <td>0.0</td>\n",
              "      <td>20.0</td>\n",
              "      <td>0.0</td>\n",
              "      <td>30.0</td>\n",
              "      <td>...</td>\n",
              "      <td>0.0</td>\n",
              "      <td>0.0</td>\n",
              "      <td>0.0</td>\n",
              "      <td>0.0</td>\n",
              "      <td>0.0</td>\n",
              "      <td>1.0</td>\n",
              "      <td>0.0</td>\n",
              "      <td>0.0</td>\n",
              "      <td>0.0</td>\n",
              "      <td>0.0</td>\n",
              "    </tr>\n",
              "    <tr>\n",
              "      <th>1</th>\n",
              "      <td>10</td>\n",
              "      <td>8</td>\n",
              "      <td>30.0</td>\n",
              "      <td>10.0</td>\n",
              "      <td>0.0</td>\n",
              "      <td>20.0</td>\n",
              "      <td>0.0</td>\n",
              "      <td>20.0</td>\n",
              "      <td>0.0</td>\n",
              "      <td>30.0</td>\n",
              "      <td>...</td>\n",
              "      <td>0.0</td>\n",
              "      <td>0.0</td>\n",
              "      <td>0.0</td>\n",
              "      <td>0.0</td>\n",
              "      <td>0.0</td>\n",
              "      <td>0.0</td>\n",
              "      <td>0.0</td>\n",
              "      <td>0.0</td>\n",
              "      <td>0.0</td>\n",
              "      <td>0.0</td>\n",
              "    </tr>\n",
              "    <tr>\n",
              "      <th>2</th>\n",
              "      <td>10</td>\n",
              "      <td>8</td>\n",
              "      <td>30.0</td>\n",
              "      <td>10.0</td>\n",
              "      <td>0.0</td>\n",
              "      <td>20.0</td>\n",
              "      <td>0.0</td>\n",
              "      <td>20.0</td>\n",
              "      <td>0.0</td>\n",
              "      <td>30.0</td>\n",
              "      <td>...</td>\n",
              "      <td>0.0</td>\n",
              "      <td>0.0</td>\n",
              "      <td>0.0</td>\n",
              "      <td>0.0</td>\n",
              "      <td>0.0</td>\n",
              "      <td>0.0</td>\n",
              "      <td>0.0</td>\n",
              "      <td>0.0</td>\n",
              "      <td>0.0</td>\n",
              "      <td>0.0</td>\n",
              "    </tr>\n",
              "    <tr>\n",
              "      <th>3</th>\n",
              "      <td>10</td>\n",
              "      <td>8</td>\n",
              "      <td>30.0</td>\n",
              "      <td>10.0</td>\n",
              "      <td>0.0</td>\n",
              "      <td>20.0</td>\n",
              "      <td>0.0</td>\n",
              "      <td>20.0</td>\n",
              "      <td>0.0</td>\n",
              "      <td>30.0</td>\n",
              "      <td>...</td>\n",
              "      <td>0.0</td>\n",
              "      <td>0.0</td>\n",
              "      <td>0.0</td>\n",
              "      <td>0.0</td>\n",
              "      <td>0.0</td>\n",
              "      <td>0.0</td>\n",
              "      <td>0.0</td>\n",
              "      <td>0.0</td>\n",
              "      <td>0.0</td>\n",
              "      <td>0.0</td>\n",
              "    </tr>\n",
              "    <tr>\n",
              "      <th>4</th>\n",
              "      <td>10</td>\n",
              "      <td>8</td>\n",
              "      <td>0.0</td>\n",
              "      <td>0.0</td>\n",
              "      <td>0.0</td>\n",
              "      <td>10.0</td>\n",
              "      <td>0.0</td>\n",
              "      <td>0.0</td>\n",
              "      <td>0.0</td>\n",
              "      <td>0.0</td>\n",
              "      <td>...</td>\n",
              "      <td>0.0</td>\n",
              "      <td>0.0</td>\n",
              "      <td>0.0</td>\n",
              "      <td>1.0</td>\n",
              "      <td>0.0</td>\n",
              "      <td>0.0</td>\n",
              "      <td>0.0</td>\n",
              "      <td>0.0</td>\n",
              "      <td>0.0</td>\n",
              "      <td>0.0</td>\n",
              "    </tr>\n",
              "  </tbody>\n",
              "</table>\n",
              "<p>5 rows × 96 columns</p>\n",
              "</div>"
            ],
            "text/plain": [
              "   target  cluster  Action_x  Adventure_x  Cars_x  Comedy_x  Dementia_x  \\\n",
              "0      10        8      30.0         10.0     0.0      20.0         0.0   \n",
              "1      10        8      30.0         10.0     0.0      20.0         0.0   \n",
              "2      10        8      30.0         10.0     0.0      20.0         0.0   \n",
              "3      10        8      30.0         10.0     0.0      20.0         0.0   \n",
              "4      10        8       0.0          0.0     0.0      10.0         0.0   \n",
              "\n",
              "   Demons_x  Drama_x  Ecchi_x  ...  Shounen Ai_y  Slice of Life_y  Space_y  \\\n",
              "0      20.0      0.0     30.0  ...           0.0              0.0      0.0   \n",
              "1      20.0      0.0     30.0  ...           0.0              0.0      0.0   \n",
              "2      20.0      0.0     30.0  ...           0.0              0.0      0.0   \n",
              "3      20.0      0.0     30.0  ...           0.0              0.0      0.0   \n",
              "4       0.0      0.0      0.0  ...           0.0              0.0      0.0   \n",
              "\n",
              "   Sports_y  Super Power_y  Supernatural_y  Thriller_y  Vampire_y  Yaoi_y  \\\n",
              "0       0.0            0.0             1.0         0.0        0.0     0.0   \n",
              "1       0.0            0.0             0.0         0.0        0.0     0.0   \n",
              "2       0.0            0.0             0.0         0.0        0.0     0.0   \n",
              "3       0.0            0.0             0.0         0.0        0.0     0.0   \n",
              "4       1.0            0.0             0.0         0.0        0.0     0.0   \n",
              "\n",
              "   Yuri_y  \n",
              "0     0.0  \n",
              "1     0.0  \n",
              "2     0.0  \n",
              "3     0.0  \n",
              "4     0.0  \n",
              "\n",
              "[5 rows x 96 columns]"
            ]
          },
          "execution_count": 4,
          "metadata": {},
          "output_type": "execute_result"
        }
      ],
      "source": [
        "data = data.drop(columns = ['user_id', 'anime_id'])\n",
        "data.rename(columns={'rating_x': 'target'}, inplace=True )\n",
        "data.head()"
      ]
    },
    {
      "cell_type": "markdown",
      "id": "7dcc5aee",
      "metadata": {
        "id": "7dcc5aee"
      },
      "source": [
        "## Dataset"
      ]
    },
    {
      "cell_type": "code",
      "execution_count": null,
      "id": "66395699",
      "metadata": {
        "scrolled": true,
        "id": "66395699"
      },
      "outputs": [],
      "source": [
        "data_sample = data.sample(int(2e6), random_state=SEED)"
      ]
    },
    {
      "cell_type": "code",
      "execution_count": null,
      "id": "68067867",
      "metadata": {
        "id": "68067867"
      },
      "outputs": [],
      "source": [
        "from sklearn.model_selection import train_test_split\n",
        "\n",
        "\n",
        "X_train, X_valid, y_train, y_valid = train_test_split(np.array(data_sample.drop(columns='target')),\n",
        "                                                      np.array(data_sample['target']),\n",
        "                                                      test_size=0.1,\n",
        "                                                      shuffle=True)"
      ]
    },
    {
      "cell_type": "markdown",
      "id": "5299ac10",
      "metadata": {
        "id": "5299ac10"
      },
      "source": [
        "## Train"
      ]
    },
    {
      "cell_type": "markdown",
      "source": [
        "### Regression"
      ],
      "metadata": {
        "id": "am86n6_RDENb"
      },
      "id": "am86n6_RDENb"
    },
    {
      "cell_type": "code",
      "execution_count": null,
      "id": "5e5de3e8",
      "metadata": {
        "id": "5e5de3e8"
      },
      "outputs": [],
      "source": [
        "from lightgbm import LGBMRegressor\n",
        "from catboost import CatBoostRegressor\n",
        "from xgboost import XGBRegressor\n",
        "from sklearn.ensemble import VotingRegressor\n",
        "from sklearn.metrics import r2_score\n",
        "\n",
        "\n",
        "def score(model, X_valid, y_valid):\n",
        "    preds = model.predict(X_valid)\n",
        "    print('r2_score:', r2_score(y_valid, preds))\n",
        "\n",
        "    \n",
        "#rm_1 = LGBMRegressor(random_state=SEED)\n",
        "#rm_2 = XGBRegressor(random_state=SEED)\n",
        "#rm_3 = CatBoostRegressor(random_seed=SEED, task_type=\"GPU\")\n",
        "#reg_model = VotingRegressor([('lgb', rm_1), ('xgb', rm_2), ('cbr', rm_3)])\n",
        "reg_model = CatBoostRegressor(iterations = 2048, random_seed=SEED, task_type=\"GPU\")\n",
        "reg_model.fit(X_train, y_train)\n",
        "score(reg_model, X_valid, y_valid)"
      ]
    },
    {
      "cell_type": "markdown",
      "source": [
        "    r2_score: 0.3795679678525802"
      ],
      "metadata": {
        "id": "fHTzKe_uDX7I"
      },
      "id": "fHTzKe_uDX7I"
    },
    {
      "cell_type": "code",
      "execution_count": null,
      "id": "9be58d8f",
      "metadata": {
        "id": "9be58d8f"
      },
      "outputs": [],
      "source": [
        "reg_model.save_model('cat_reg.model', format=\"cbm\")"
      ]
    },
    {
      "cell_type": "markdown",
      "source": [
        "### Classification"
      ],
      "metadata": {
        "id": "Whp56Y66DKng"
      },
      "id": "Whp56Y66DKng"
    },
    {
      "cell_type": "code",
      "execution_count": null,
      "id": "575ee1ed",
      "metadata": {
        "scrolled": true,
        "id": "575ee1ed"
      },
      "outputs": [],
      "source": [
        "from catboost import CatBoostClassifier\n",
        "from sklearn.metrics import classification_report\n",
        "from sklearn.metrics import recall_score, precision_score\n",
        "\n",
        "\n",
        "def score(model, X_valid, y_valid):\n",
        "    preds = model.predict(X_valid)\n",
        "    print(classification_report(y_valid, preds))\n",
        "    print('recall: ', recall_score(y_valid, preds, average=\"macro\", zero_division=0))\n",
        "\n",
        "    \n",
        "clf_model = CatBoostClassifier(iterations=2048, loss_function='MultiClass', task_type=\"GPU\", random_state=SEED)\n",
        "clf_model.fit(X_train, y_train)\n",
        "score(clf_model, X_valid, y_valid)"
      ]
    },
    {
      "cell_type": "markdown",
      "source": [
        "              precision    recall  f1-score   support\n",
        "\n",
        "           1       0.39      0.17      0.23       503\n",
        "           2       0.20      0.04      0.06       769\n",
        "           3       0.24      0.05      0.09      1296\n",
        "           4       0.28      0.04      0.06      3407\n",
        "           5       0.33      0.09      0.14      8955\n",
        "           6       0.33      0.13      0.19     20094\n",
        "           7       0.35      0.46      0.40     43426\n",
        "           8       0.37      0.52      0.43     51958\n",
        "           9       0.39      0.30      0.34     39371\n",
        "          10       0.54      0.51      0.52     30221\n",
        "\n",
        "    accuracy                           0.39    200000\n",
        "    macro avg       0.34      0.23      0.25    200000\n",
        "    weighted avg       0.38      0.39      0.37    200000\n",
        "\n",
        "    recall:  0.22889428506982382"
      ],
      "metadata": {
        "id": "hNWqrURXCol4"
      },
      "id": "hNWqrURXCol4"
    },
    {
      "cell_type": "code",
      "execution_count": null,
      "id": "d3443bef",
      "metadata": {
        "id": "d3443bef"
      },
      "outputs": [],
      "source": [
        "clf_model.save_model('cat_cls.model', format=\"cbm\")"
      ]
    }
  ],
  "metadata": {
    "kernelspec": {
      "display_name": "Python 3 (ipykernel)",
      "language": "python",
      "name": "python3"
    },
    "language_info": {
      "codemirror_mode": {
        "name": "ipython",
        "version": 3
      },
      "file_extension": ".py",
      "mimetype": "text/x-python",
      "name": "python",
      "nbconvert_exporter": "python",
      "pygments_lexer": "ipython3",
      "version": "3.9.15"
    },
    "colab": {
      "provenance": [],
      "toc_visible": true
    }
  },
  "nbformat": 4,
  "nbformat_minor": 5
}