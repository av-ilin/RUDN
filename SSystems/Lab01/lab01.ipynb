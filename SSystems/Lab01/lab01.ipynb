{
 "cells": [
  {
   "cell_type": "markdown",
   "id": "ecf696d9",
   "metadata": {},
   "source": [
    "# Transport task"
   ]
  },
  {
   "cell_type": "code",
   "execution_count": 112,
   "id": "344f7f4a",
   "metadata": {
    "scrolled": true
   },
   "outputs": [],
   "source": [
    "def gen_code(v, a, b):\n",
    "    with open('script.py', 'w') as file:\n",
    "        print('from cvxopt.modeling import variable, op', file=file)\n",
    "        \n",
    "    with open('script.py', 'a') as file:\n",
    "        print(file=file)\n",
    "        print(file=file)\n",
    "        print('x = variable(%d, \\'x\\')' % (len(v) * len(v[0])), file=file)\n",
    "        print(file=file)\n",
    "        print('z = (', end='', file=file)\n",
    "        \n",
    "        k = 1\n",
    "        for i, array in enumerate(v):\n",
    "            if i != 0:\n",
    "                print('     ', end='', file=file)\n",
    "            for j, val in enumerate(array):\n",
    "                end = '\\t+\\t'\n",
    "                if j == len(array) - 1 and i == i == len(v) - 1:\n",
    "                    end = '\\t)'\n",
    "                print('%d * x[%d]' % (val, i * k + j), end=end, file=file)\n",
    "            print(file=file)\n",
    "            k += 1\n",
    "        print(file=file)\n",
    "        \n",
    "        k = 0\n",
    "        for idx in range(len(v)):\n",
    "            print('mass%d = (' % idx, end='', file=file)\n",
    "            for i in range(k, k + len(v)):\n",
    "                end= '\\t+\\t'\n",
    "                if i == k + len(v) - 1:\n",
    "                    end = '\\t<= ' + str(a[idx]) + ')\\n'\n",
    "                print('x[%d]' % i, end=end, file=file)\n",
    "            k += len(v)\n",
    "        print(file=file)\n",
    "        \n",
    "        k = 0\n",
    "        for idx in range(len(v), 2 * len(v)):\n",
    "            print('mass%d = (' % idx, end='', file=file)\n",
    "            for i in range(idx - len(v), len(v)**2, 5):\n",
    "                end= '\\t+\\t'\n",
    "                if i + 5 >= len(v) ** 2:\n",
    "                    end = '\\t== ' + str(b[idx - len(v)]) + ')\\n'\n",
    "                print('x[%d]' % (i), end=end, file=file)\n",
    "        print(file=file)\n",
    "        \n",
    "        print('x_non_negative = (x>=0)', file=file)\n",
    "        print(file=file)\n",
    "        print('problem = op(z,[', end='', file=file)\n",
    "        for idx in range(len(a) + len(b)):\n",
    "            print('mass%d' % idx, end=', ', file=file)\n",
    "        print('x_non_negative])', file=file)\n",
    "        print(file=file)\n",
    "        \n",
    "        print('problem.solve(solver=\\\"glpk\\\")', file=file)\n",
    "        print('problem.status', file=file)\n",
    "        print('print(\"Result: {}\".format(x.value))', file=file)\n",
    "        print('print(\"Price: {}\".format(problem.objective.value()[0]))', end='', file=file)"
   ]
  },
  {
   "cell_type": "code",
   "execution_count": 115,
   "id": "5ea0ea1e",
   "metadata": {},
   "outputs": [],
   "source": [
    "text = []\n",
    "with open('t_task.txt') as f:\n",
    "    for line in f:\n",
    "        text.append(line.strip())\n",
    "\n",
    "v = []\n",
    "beta = []\n",
    "alpha = [int(num) for num in text[0].split()]\n",
    "\n",
    "for i in range(1, len(text)):\n",
    "    line = [int(num) for num in text[i].split()]\n",
    "    beta.append(line[0])\n",
    "    v.append(line[1:])\n",
    "    \n",
    "gen_code(v, alpha, beta)"
   ]
  },
  {
   "cell_type": "code",
   "execution_count": 116,
   "id": "79dc180b",
   "metadata": {
    "scrolled": true
   },
   "outputs": [
    {
     "name": "stdout",
     "output_type": "stream",
     "text": [
      "GLPK Simplex Optimizer, v4.65\r\n",
      "35 rows, 25 columns, 75 non-zeros\r\n",
      "      0: obj =   0.000000000e+00 inf =   8.000e+01 (5)\r\n",
      "      7: obj =   2.300000000e+02 inf =   0.000e+00 (0)\r\n",
      "*    25: obj =   9.000000000e+01 inf =   0.000e+00 (0)\r\n",
      "OPTIMAL LP SOLUTION FOUND\r\n",
      "Result: [ 1.00e+01]\r\n",
      "[ 0.00e+00]\r\n",
      "[ 0.00e+00]\r\n",
      "[ 0.00e+00]\r\n",
      "[ 0.00e+00]\r\n",
      "[ 0.00e+00]\r\n",
      "[ 0.00e+00]\r\n",
      "[ 0.00e+00]\r\n",
      "[ 1.00e+01]\r\n",
      "[ 0.00e+00]\r\n",
      "[ 0.00e+00]\r\n",
      "[ 1.50e+01]\r\n",
      "[ 1.00e+01]\r\n",
      "[ 0.00e+00]\r\n",
      "[ 0.00e+00]\r\n",
      "[ 0.00e+00]\r\n",
      "[ 0.00e+00]\r\n",
      "[ 0.00e+00]\r\n",
      "[ 2.00e+01]\r\n",
      "[ 5.00e+00]\r\n",
      "[ 0.00e+00]\r\n",
      "[ 5.00e+00]\r\n",
      "[ 0.00e+00]\r\n",
      "[ 0.00e+00]\r\n",
      "[ 5.00e+00]\r\n",
      "\r\n",
      "Price: 90.0\r\n"
     ]
    }
   ],
   "source": [
    "!python3 script.py"
   ]
  },
  {
   "cell_type": "markdown",
   "id": "7ff83825",
   "metadata": {},
   "source": [
    "# Game Task"
   ]
  },
  {
   "cell_type": "code",
   "execution_count": 147,
   "id": "d96fbdb6",
   "metadata": {},
   "outputs": [],
   "source": [
    "def game(prices, P, Q):\n",
    "    answer = {}\n",
    "    l_price = max(min(price) for price in prices)\n",
    "    u_price = min(max(price) for price in np.rot90(prices))\n",
    "    \n",
    "    if l_price == u_price:\n",
    "        print(\"There is a saddle point! v = {%f}\" % l_price)\n",
    "        return answer\n",
    "\n",
    "    H_pq = 0\n",
    "    for strategy, p in zip(prices, P):\n",
    "        H_pq += p * sum([price * q for price, q in zip(strategy, Q)])\n",
    "    answer[\"H(P,Q)\"] = H_pq\n",
    "    \n",
    "    for i, strategy in enumerate(np.rot90(prices), 1):\n",
    "        answer[\"H(P,B{})\".format(i)] = sum([price * p for price, p in zip(strategy, P)])\n",
    "    \n",
    "    return answer"
   ]
  },
  {
   "cell_type": "code",
   "execution_count": 148,
   "id": "d5cc8383",
   "metadata": {},
   "outputs": [
    {
     "data": {
      "text/plain": [
       "{'H(P,Q)': 5.5969,\n",
       " 'H(P,B1)': 5.65,\n",
       " 'H(P,B2)': 5.630000000000001,\n",
       " 'H(P,B3)': 5.67,\n",
       " 'H(P,B4)': 9.07,\n",
       " 'H(P,B5)': 8.100000000000001}"
      ]
     },
     "execution_count": 148,
     "metadata": {},
     "output_type": "execute_result"
    }
   ],
   "source": [
    "import numpy as np\n",
    "\n",
    "\n",
    "matrix = np.array([[ 8, 11,  9,  3,  5],\n",
    "                   [ 3,  8,  3,  0,  6],\n",
    "                   [ 9, 11,  4, 12,  6],\n",
    "                   [11,  6, 11, 11,  1],\n",
    "                   [ 8,  4,  0,  7,  7]])\n",
    "\n",
    "P = [0.55, 0.0, 0.18,  0.0, 0.26]\n",
    "Q = [ 0.0, 0.0, 0.18, 0.01,  0.8]\n",
    "\n",
    "game(matrix, P, Q)"
   ]
  }
 ],
 "metadata": {
  "kernelspec": {
   "display_name": "Python 3 (ipykernel)",
   "language": "python",
   "name": "python3"
  },
  "language_info": {
   "codemirror_mode": {
    "name": "ipython",
    "version": 3
   },
   "file_extension": ".py",
   "mimetype": "text/x-python",
   "name": "python",
   "nbconvert_exporter": "python",
   "pygments_lexer": "ipython3",
   "version": "3.9.12"
  }
 },
 "nbformat": 4,
 "nbformat_minor": 5
}
