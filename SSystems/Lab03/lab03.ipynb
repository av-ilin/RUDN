{
  "cells": [
    {
      "cell_type": "markdown",
      "source": [
        "# Preparation"
      ],
      "metadata": {
        "id": "b8YJ8tp_EBZP"
      },
      "id": "b8YJ8tp_EBZP"
    },
    {
      "cell_type": "code",
      "execution_count": null,
      "id": "205bc590",
      "metadata": {
        "id": "205bc590"
      },
      "outputs": [],
      "source": [
        "import pandas as pd\n",
        "import numpy as np\n",
        "import json\n",
        "import pickle\n",
        "from catboost import CatBoostRegressor\n",
        "from catboost import CatBoostClassifier\n",
        "from sklearn.cluster import KMeans\n",
        "\n",
        "\n",
        "data_anime = pd.read_csv('anime_cl.csv')\n",
        "data_top = json.load(open('anime_top_for_cluster.json'))\n",
        "clf_model = CatBoostClassifier().load_model('cat_cls.model')\n",
        "reg_model = CatBoostRegressor().load_model('cat_reg.model')\n",
        "kmn_model = pickle.load(open('kmeans.model', 'rb'))"
      ]
    },
    {
      "cell_type": "markdown",
      "source": [
        "# Function for recommendation"
      ],
      "metadata": {
        "id": "VndZt9r4EIsI"
      },
      "id": "VndZt9r4EIsI"
    },
    {
      "cell_type": "code",
      "execution_count": null,
      "id": "dadac395",
      "metadata": {
        "id": "dadac395"
      },
      "outputs": [],
      "source": [
        "def recomend(usr):\n",
        "    X = np.array([usr[key] for key in sorted(usr)])\n",
        "    y = kmn_model.predict([X]).reshape(-1)[0]\n",
        "    anime_for_usr = np.array(data_top[str(y)])\n",
        "    anime_f = []\n",
        "    for anime in anime_for_usr:\n",
        "        X1 = np.array(data_anime[data_anime['anime_id'] == anime].drop(columns=['anime_id'])).reshape(-1)\n",
        "        X2 = np.array(pd.DataFrame(usr, index=[0])).reshape(-1)\n",
        "        X3 = np.array(y).reshape(-1)\n",
        "        X_f = np.concatenate((X3, X2, X1))\n",
        "        rate1 = clf_model.predict(X_f).reshape(-1)\n",
        "        rate2 = reg_model.predict(X_f).reshape(-1)\n",
        "        if (rate1 + rate2)/2 >= 5:\n",
        "            anime_f.append(anime)\n",
        "        if len(anime_f) == 10:\n",
        "            break\n",
        "    return anime_f"
      ]
    },
    {
      "cell_type": "markdown",
      "source": [
        "# Example"
      ],
      "metadata": {
        "id": "FrrMGUT8D_Xn"
      },
      "id": "FrrMGUT8D_Xn"
    },
    {
      "cell_type": "code",
      "execution_count": null,
      "id": "833a605a",
      "metadata": {
        "id": "833a605a"
      },
      "outputs": [],
      "source": [
        "GENRES = data_anime.drop(columns=['anime_id', 'episodes', 'rating', 'members',\n",
        "                                  'Movie'   , 'Music'   , 'ONA'   , 'OVA', 'TV']).columns.tolist()"
      ]
    },
    {
      "cell_type": "code",
      "execution_count": null,
      "id": "24eaa372",
      "metadata": {
        "id": "24eaa372"
      },
      "outputs": [],
      "source": [
        "usr = {g: 0 for g in GENRES}\n",
        "\n",
        "usr['Drama'] = 300\n",
        "usr['Action'] = 1000\n",
        "usr['Adventure'] = 1024\n",
        "usr['Supernatural'] = 512\n",
        "usr['Comedy'] = 2048\n",
        "\n",
        "recomendation = recomend(usr)"
      ]
    },
    {
      "cell_type": "code",
      "execution_count": null,
      "id": "dbbbbd12",
      "metadata": {
        "scrolled": true,
        "id": "dbbbbd12",
        "outputId": "464187e3-1e11-4f78-e7e4-2eb9e9b3f252"
      },
      "outputs": [
        {
          "data": {
            "text/html": [
              "<div>\n",
              "<style scoped>\n",
              "    .dataframe tbody tr th:only-of-type {\n",
              "        vertical-align: middle;\n",
              "    }\n",
              "\n",
              "    .dataframe tbody tr th {\n",
              "        vertical-align: top;\n",
              "    }\n",
              "\n",
              "    .dataframe thead th {\n",
              "        text-align: right;\n",
              "    }\n",
              "</style>\n",
              "<table border=\"1\" class=\"dataframe\">\n",
              "  <thead>\n",
              "    <tr style=\"text-align: right;\">\n",
              "      <th></th>\n",
              "      <th>anime_id</th>\n",
              "      <th>name</th>\n",
              "      <th>genre</th>\n",
              "      <th>type</th>\n",
              "      <th>episodes</th>\n",
              "      <th>rating</th>\n",
              "      <th>members</th>\n",
              "    </tr>\n",
              "  </thead>\n",
              "  <tbody>\n",
              "    <tr>\n",
              "      <th>1423</th>\n",
              "      <td>1424</td>\n",
              "      <td>Lupin III: Otakara Henkyaku Daisakusen!!</td>\n",
              "      <td>Adventure, Comedy, Shounen</td>\n",
              "      <td>Special</td>\n",
              "      <td>1</td>\n",
              "      <td>7.55</td>\n",
              "      <td>2871</td>\n",
              "    </tr>\n",
              "    <tr>\n",
              "      <th>1881</th>\n",
              "      <td>2683</td>\n",
              "      <td>Tokyo Majin Gakuen Kenpucho: Tou Dai Ni Maku</td>\n",
              "      <td>Action, Drama, Fantasy, Horror, Martial Arts, ...</td>\n",
              "      <td>TV</td>\n",
              "      <td>12</td>\n",
              "      <td>7.42</td>\n",
              "      <td>21972</td>\n",
              "    </tr>\n",
              "    <tr>\n",
              "      <th>2154</th>\n",
              "      <td>1437</td>\n",
              "      <td>Lupin III: Honoo no Kioku - Tokyo Crisis</td>\n",
              "      <td>Action, Adventure, Comedy, Mystery, Shounen</td>\n",
              "      <td>Special</td>\n",
              "      <td>1</td>\n",
              "      <td>7.34</td>\n",
              "      <td>3138</td>\n",
              "    </tr>\n",
              "    <tr>\n",
              "      <th>2194</th>\n",
              "      <td>1422</td>\n",
              "      <td>Lupin III: $1 Money Wars</td>\n",
              "      <td>Action, Adventure, Comedy, Shounen</td>\n",
              "      <td>Special</td>\n",
              "      <td>1</td>\n",
              "      <td>7.33</td>\n",
              "      <td>2950</td>\n",
              "    </tr>\n",
              "    <tr>\n",
              "      <th>3105</th>\n",
              "      <td>1438</td>\n",
              "      <td>Lupin III: Lupin Ansatsu Shirei</td>\n",
              "      <td>Action, Adventure, Comedy, Shounen</td>\n",
              "      <td>Special</td>\n",
              "      <td>1</td>\n",
              "      <td>7.08</td>\n",
              "      <td>3006</td>\n",
              "    </tr>\n",
              "    <tr>\n",
              "      <th>3256</th>\n",
              "      <td>1431</td>\n",
              "      <td>Lupin III: Ai no Da Capo - Fujiko&amp;#039;s Unluc...</td>\n",
              "      <td>Action, Adventure, Comedy, Shounen</td>\n",
              "      <td>Special</td>\n",
              "      <td>1</td>\n",
              "      <td>7.04</td>\n",
              "      <td>3279</td>\n",
              "    </tr>\n",
              "    <tr>\n",
              "      <th>4063</th>\n",
              "      <td>260</td>\n",
              "      <td>Happy☆Lesson (TV)</td>\n",
              "      <td>Comedy, Drama, Harem, Romance, Slice of Life</td>\n",
              "      <td>TV</td>\n",
              "      <td>13</td>\n",
              "      <td>6.81</td>\n",
              "      <td>17109</td>\n",
              "    </tr>\n",
              "    <tr>\n",
              "      <th>5357</th>\n",
              "      <td>1428</td>\n",
              "      <td>Lupin III: Secret File</td>\n",
              "      <td>Adventure, Comedy, Shounen</td>\n",
              "      <td>OVA</td>\n",
              "      <td>1</td>\n",
              "      <td>6.48</td>\n",
              "      <td>1994</td>\n",
              "    </tr>\n",
              "    <tr>\n",
              "      <th>5518</th>\n",
              "      <td>258</td>\n",
              "      <td>Hitsuji no Uta</td>\n",
              "      <td>Drama, Horror, Vampire</td>\n",
              "      <td>OVA</td>\n",
              "      <td>4</td>\n",
              "      <td>6.43</td>\n",
              "      <td>10574</td>\n",
              "    </tr>\n",
              "    <tr>\n",
              "      <th>6005</th>\n",
              "      <td>1427</td>\n",
              "      <td>Lupin III: Ikiteita Majutsushi</td>\n",
              "      <td>Adventure, Comedy, Shounen</td>\n",
              "      <td>OVA</td>\n",
              "      <td>1</td>\n",
              "      <td>6.28</td>\n",
              "      <td>2697</td>\n",
              "    </tr>\n",
              "  </tbody>\n",
              "</table>\n",
              "</div>"
            ],
            "text/plain": [
              "      anime_id                                               name  \\\n",
              "1423      1424           Lupin III: Otakara Henkyaku Daisakusen!!   \n",
              "1881      2683       Tokyo Majin Gakuen Kenpucho: Tou Dai Ni Maku   \n",
              "2154      1437           Lupin III: Honoo no Kioku - Tokyo Crisis   \n",
              "2194      1422                           Lupin III: $1 Money Wars   \n",
              "3105      1438                    Lupin III: Lupin Ansatsu Shirei   \n",
              "3256      1431  Lupin III: Ai no Da Capo - Fujiko&#039;s Unluc...   \n",
              "4063       260                                  Happy☆Lesson (TV)   \n",
              "5357      1428                             Lupin III: Secret File   \n",
              "5518       258                                     Hitsuji no Uta   \n",
              "6005      1427                     Lupin III: Ikiteita Majutsushi   \n",
              "\n",
              "                                                  genre     type episodes  \\\n",
              "1423                         Adventure, Comedy, Shounen  Special        1   \n",
              "1881  Action, Drama, Fantasy, Horror, Martial Arts, ...       TV       12   \n",
              "2154        Action, Adventure, Comedy, Mystery, Shounen  Special        1   \n",
              "2194                 Action, Adventure, Comedy, Shounen  Special        1   \n",
              "3105                 Action, Adventure, Comedy, Shounen  Special        1   \n",
              "3256                 Action, Adventure, Comedy, Shounen  Special        1   \n",
              "4063       Comedy, Drama, Harem, Romance, Slice of Life       TV       13   \n",
              "5357                         Adventure, Comedy, Shounen      OVA        1   \n",
              "5518                             Drama, Horror, Vampire      OVA        4   \n",
              "6005                         Adventure, Comedy, Shounen      OVA        1   \n",
              "\n",
              "      rating  members  \n",
              "1423    7.55     2871  \n",
              "1881    7.42    21972  \n",
              "2154    7.34     3138  \n",
              "2194    7.33     2950  \n",
              "3105    7.08     3006  \n",
              "3256    7.04     3279  \n",
              "4063    6.81    17109  \n",
              "5357    6.48     1994  \n",
              "5518    6.43    10574  \n",
              "6005    6.28     2697  "
            ]
          },
          "execution_count": 10,
          "metadata": {},
          "output_type": "execute_result"
        }
      ],
      "source": [
        "anime = pd.read_csv('data/anime.csv')\n",
        "anime[anime['anime_id'].isin(a)]"
      ]
    },
    {
      "cell_type": "markdown",
      "source": [
        "# User Template"
      ],
      "metadata": {
        "id": "xQnMWir5ESUr"
      },
      "id": "xQnMWir5ESUr"
    },
    {
      "cell_type": "code",
      "execution_count": null,
      "id": "75058471",
      "metadata": {
        "id": "75058471"
      },
      "outputs": [],
      "source": [
        "import json\n",
        "\n",
        "usr = {g: 0 for g in GENRES}\n",
        "with open('user_pattern.json', 'w') as f:\n",
        "    json.dump(usr, f)"
      ]
    },
    {
      "cell_type": "code",
      "execution_count": null,
      "id": "189d64bd",
      "metadata": {
        "id": "189d64bd"
      },
      "outputs": [],
      "source": [
        "with open('user_pattern.json', 'r') as f:\n",
        "    usr = json.load(f)"
      ]
    }
  ],
  "metadata": {
    "kernelspec": {
      "display_name": "Python 3 (ipykernel)",
      "language": "python",
      "name": "python3"
    },
    "language_info": {
      "codemirror_mode": {
        "name": "ipython",
        "version": 3
      },
      "file_extension": ".py",
      "mimetype": "text/x-python",
      "name": "python",
      "nbconvert_exporter": "python",
      "pygments_lexer": "ipython3",
      "version": "3.9.15"
    },
    "colab": {
      "provenance": []
    }
  },
  "nbformat": 4,
  "nbformat_minor": 5
}